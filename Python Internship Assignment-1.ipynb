{
 "cells": [
  {
   "cell_type": "markdown",
   "metadata": {},
   "source": [
    "___\n",
    "\n",
    "<a href='https://viqasys.com/wp-content/uploads/2021/07/ns1.png'><img src='https://viqasys.com/wp-content/uploads/2021/07/ns1.png'/></a>\n",
    "___\n",
    "<center><em>Content Copyright VIQASYS INNOVATIONS PVT LTD.</em></center>\n",
    "\n",
    "# Assignment 1"
   ]
  },
  {
   "cell_type": "markdown",
   "metadata": {},
   "source": [
    "# Question 1\n",
    "\n",
    "In the below elements, identify which of them are values or expressions. Values can be integers or strings, while expressions will be mathematical operators or combinations thereof.\n",
    "'hello', \n",
    "-87., ), o, lu, alu, ssion)'(Value))str\" (Value)"
   ]
  },
  {
   "cell_type": "markdown",
   "metadata": {},
   "source": [
    "ANSWER\n",
    "\n",
    "'hello' - Value (String)\n",
    "\n",
    "-87. - Value (Floating-point Number)\n",
    "\n",
    ") - Expression (Closing Parenthesis)\n",
    "\n",
    "o - Value (Variable or Identifier)\n",
    "\n",
    "lu - Value (Variable or Identifier)\n",
    "\n",
    "alu - Value (Variable or Identifier)\n",
    "\n",
    "ssion) - Value (String)\n",
    "\n",
    "' - Expression (Opening Quotation Mark)\n",
    "\n",
    "(Value) - Expression (Grouping)\n",
    "\n",
    "str - Value (Variable or Identifier)\n",
    "\n",
    "\" - Expression (Closing Quotation Mark)"
   ]
  },
  {
   "cell_type": "markdown",
   "metadata": {},
   "source": [
    "## Question 2\n",
    "\n",
    "Explain the difference between a string and a variable.\n"
   ]
  },
  {
   "cell_type": "markdown",
   "metadata": {},
   "source": [
    "## Answer\n",
    "\n",
    "\n",
    "String:\n",
    "\n",
    "A string is a data type used to represent textual data, such as words, sentences, or even entire documents.\n",
    "It is essentially a sequence of characters enclosed within quotation marks (either single or double) in most programming languages.\n",
    "Example: \"Hello, World!\" or 'This is a string'.\n",
    "Strings can be manipulated, searched, and modified in various ways depending on the programming language.\n",
    "\n",
    "Variable:\n",
    "\n",
    "A variable is a symbolic name that represents a value stored in the computer's memory.\n",
    "It serves as a placeholder for data that can change during the execution of a program.\n",
    "Variables can store different types of data, including strings, numbers, and more complex data structures.\n",
    "Unlike strings, which specifically represent textual data, variables can hold various types of data depending on how they are declared and defined.\n",
    "Example: message = \"Hello, World!\" Here, message is the variable name, and \"Hello, World!\" is the string value assigned to it.\n",
    "Variables are used to store and manipulate data in a program, making it dynamic and adaptable to different situations."
   ]
  },
  {
   "cell_type": "markdown",
   "metadata": {},
   "source": [
    "## Question 3\n",
    "Describe three different data types commonly used in programming"
   ]
  },
  {
   "cell_type": "markdown",
   "metadata": {},
   "source": [
    "# Answer"
   ]
  },
  {
   "cell_type": "markdown",
   "metadata": {},
   "source": [
    "\n",
    "\n",
    "Integer (int):\n",
    "\n",
    "Integers represent whole numbers without any fractional part. They can be positive, negative, or zero.\n",
    "Integers are commonly used for counting and indexing operations, as well as for representing numerical quantities that don't require decimal precision.\n",
    "\n",
    "Example: 42, -10, 0.\n",
    "Operations on integers typically include arithmetic operations such as addition, subtraction, multiplication, and division.\n",
    "\n",
    "String (str):\n",
    "\n",
    "Strings represent sequences of characters, typically used to store textual data such as words, sentences, or even entire documents.\n",
    "Strings are enclosed within quotation marks (either single or double) in most programming languages.\n",
    "\n",
    "Example: \"Hello, World!\", 'Python is awesome'.\n",
    "Operations on strings include concatenation (joining two strings together), slicing (extracting a portion of the string), and searching for substrings.\n",
    "\n",
    "Floating-point Number (float):\n",
    "\n",
    "Floating-point numbers represent real numbers with fractional parts. They are used when numerical data requires decimal precision.\n",
    "Floats are often used for mathematical calculations involving numbers with fractional components.\n",
    "Example: 3.14, -0.001, 2.71828.\n",
    "\n",
    "Operations on floating-point numbers include arithmetic operations (addition, subtraction, multiplication, division) as well as more complex mathematical functions like trigonometric functions and exponentiation."
   ]
  },
  {
   "cell_type": "markdown",
   "metadata": {},
   "source": [
    "## Question 4\n",
    "What is an expression made up of? What is the general purpose of expressions?\n"
   ]
  },
  {
   "cell_type": "markdown",
   "metadata": {},
   "source": [
    "## Answer"
   ]
  },
  {
   "cell_type": "markdown",
   "metadata": {},
   "source": [
    "An expression in programming is made up of one or more operands and operators, combined in a manner that represents a computation or a value. Here's what constitutes an expression:\n",
    "\n",
    "\n",
    "Operands: These are the values or variables involved in the expression. Operands can be literals (like numbers or strings) or variables (representing values stored in memory).\n",
    "\n",
    "Operators: These are symbols that represent specific computations to be performed on the operands. Operators define the relationship and actions between the operands.\n",
    "\n",
    "Expressions can also contain other elements such as parentheses for grouping, function calls, and method invocations.\n",
    "\n",
    "EXAPMLE:\n",
    "20+45-20, (20*4)/2 etc.\n",
    "\n",
    "The general purpose of expressions in programming is to perform computations, manipulate data, and evaluate to a value. Expressions are integral to nearly every aspect of programming, from simple arithmetic calculations to complex logical operations and function evaluations.\n"
   ]
  },
  {
   "cell_type": "markdown",
   "metadata": {},
   "source": [
    "## Question 5\n",
    "\n",
    "Explain the difference between an expression and a statement, using examples if necessary."
   ]
  },
  {
   "cell_type": "markdown",
   "metadata": {},
   "source": [
    "# Answer"
   ]
  },
  {
   "cell_type": "markdown",
   "metadata": {},
   "source": [
    "In programming, expressions and statements are both fundamental concepts, but they serve different purposes:\n",
    "\n",
    "Expression:\n",
    "\n",
    "An expression is a combination of operands (values or variables) and operators that evaluates to a single value.\n",
    "Expressions can be simple, like 2 + 3, or more complex, involving function calls, method invocations, or conditional expressions.\n",
    "They can be used anywhere in a program where a value is expected, such as assigning a value to a variable, passing arguments to a function, or defining conditions in control structures.\n",
    "\n",
    "Examples of expressions:\n",
    "\n",
    "2 + 3 (evaluates to 5)\n",
    "\n",
    "x * y (evaluates to the product of variables x and y)\n",
    "\n",
    "len(\"Hello\") (evaluates to the length of the string \"Hello\")\n",
    "\n",
    "Statement:\n",
    "\n",
    "A statement is a complete line of code that performs an action, such as declaring a variable, assigning a value, calling a function, or controlling the flow of execution.\n",
    "Unlike expressions, statements do not necessarily produce a value.\n",
    "Statements are typically terminated by a semicolon (;) in languages like C, C++, Java, and JavaScript, while in languages like Python, statements are often terminated by newlines.\n",
    "\n",
    "Examples of statements:\n",
    "Variable declaration: int x;\n",
    "\n",
    "Assignment statement: x = 5;\n",
    "\n",
    "Conditional statement: if (x > 0) { ... }\n",
    "\n",
    "Loop statement: for (int i = 0; i < 10; i++) { ... }\n",
    "\n",
    "Difference:\n",
    "\n",
    "The key difference between expressions and statements is that expressions always produce a value, while statements may or may not produce a value but perform an action.\n",
    "Expressions are often used within statements, for example, the expression x * y can be used in an assignment statement like result = x * y."
   ]
  },
  {
   "cell_type": "markdown",
   "metadata": {},
   "source": [
    "## Question 6\n",
    "After running the following code, what does the variable \"bacon\" contain?\n",
    "\n",
    "bacon = 22 <br>\n",
    "\n",
    "bacon + 1"
   ]
  },
  {
   "cell_type": "markdown",
   "metadata": {},
   "source": [
    "## Answer\n",
    "\n",
    "bacon = 22: This line assigns the value 22 to the variable bacon.\n",
    "\n",
    "bacon + 1: This expression evaluates to 22 + 1, which equals 23.\n",
    "\n",
    "So, after running the code, the variable bacon still contains the original value, 22. However, the expression bacon + 1 evaluates to 23, but this value isn't assigned back to bacon, so bacon remains 22."
   ]
  },
  {
   "cell_type": "markdown",
   "metadata": {},
   "source": [
    "## Question 7\n",
    "Determine the values of the following two terms:<br>\n",
    "'spam' + 'spamspam'<br>\n",
    "'spam' * 3\n",
    "\n"
   ]
  },
  {
   "cell_type": "code",
   "execution_count": 6,
   "metadata": {},
   "outputs": [
    {
     "data": {
      "text/plain": [
       "'spamspamspam'"
      ]
     },
     "execution_count": 6,
     "metadata": {},
     "output_type": "execute_result"
    }
   ],
   "source": [
    "'spam' + 'spamspam'\n",
    "'spam' * 3"
   ]
  },
  {
   "cell_type": "markdown",
   "metadata": {},
   "source": [
    "# Answer\n",
    "\n",
    "'spam' + 'spamspam':\n",
    "\n",
    "This expression performs string concatenation, meaning it joins the two strings together.\n",
    "'spam' + 'spamspam' evaluates to 'spamspamspam'.\n",
    "So, the value of this expression is 'spamspamspam'.\n",
    "\n",
    "'spam' * 3:\n",
    "\n",
    "This expression performs string repetition, meaning it repeats the string a certain number of times.\n",
    "\n",
    "'spam' * 3 repeats the string 'spam' three times.\n",
    "\n",
    "So, the value of this expression is 'spamspamspam'.\n",
    "Therefore, both expressions 'spam' + 'spamspam' and 'spam' * 3 yield the same value, which is 'spamspamspam'."
   ]
  },
  {
   "cell_type": "markdown",
   "metadata": {},
   "source": [
    "## Question 8\n",
    "\n",
    "Why is \"eggs\" a valid variable name while \"100\" is invalid?"
   ]
  },
  {
   "cell_type": "markdown",
   "metadata": {},
   "source": [
    "## Answer\n",
    "\n",
    "In most programming languages, including Python, variable names must adhere to certain rules. Here's why \"eggs\" is a valid variable name while \"100\" is invalid:\n",
    "\n",
    "Starting Character:\n",
    "\n",
    "Variable names typically cannot start with a number.\n",
    "\n",
    "\"eggs\" starts with a letter, which is allowed.\n",
    "\n",
    "\"100\" starts with a number, which is generally not allowed.\n",
    "\n",
    "Characters Allowed:\n",
    "\n",
    "Variable names can contain letters (both uppercase and lowercase), digits (but not as the starting character), and underscores.\n",
    "\n",
    "\"eggs\" contains only letters, which are valid characters for variable names.\n",
    "\n",
    "\"100\" contains only digits, which are not allowed as the starting character for variable names."
   ]
  },
  {
   "cell_type": "markdown",
   "metadata": {},
   "source": [
    "## Question 9\n",
    "\n",
    "List three functions that can be used to obtain the integer, floating-point number, or string version of a value."
   ]
  },
  {
   "cell_type": "markdown",
   "metadata": {},
   "source": [
    "# Answer\n",
    "\n",
    "In Python, there are several functions that can be used to obtain the integer, floating-point number, or string version of a value. Here are three commonly used functions for each purpose:\n",
    "\n",
    "Integer Conversion:\n",
    "\n",
    "int(): This function converts a value to an integer. If the value is a string, it can represent an integer, such as \"10\", \"42\", etc. If the value is a floating-point number, it truncates the decimal part.\n",
    "\n",
    "value = 10.5\n",
    "\n",
    "integer_value = int(value)\n",
    "\n",
    "print(integer_value)  # Output: 10\n",
    "\n",
    "\n",
    "Floating-Point Number Conversion:\n",
    "\n",
    "float(): This function converts a value to a floating-point number. It can convert integer values or strings representing floating-point numbers.\n",
    "\n",
    "value = \"3.14\"\n",
    "\n",
    "float_value = float(value)\n",
    "\n",
    "print(float_value)  # Output: 3.14\n",
    "\n",
    "\n",
    "String Conversion:\n",
    "\n",
    "str(): This function converts a value to a string. It can convert integers, floating-point numbers, or other data types to their string representations.\n",
    "\n",
    "value = 42\n",
    "\n",
    "string_value = str(value)\n",
    "\n",
    "print(string_value)  # Output: \"42\""
   ]
  },
  {
   "cell_type": "markdown",
   "metadata": {},
   "source": [
    "## Question 10 \n",
    "Explain why the following expression causes an error and suggest how to fix it:<br>\n",
    "'I have eaten ' + 99 + ' burritos.'\n",
    "\n"
   ]
  },
  {
   "cell_type": "markdown",
   "metadata": {},
   "source": [
    "# Answer\n",
    "\n",
    "The error in the expression 'I have eaten ' + 99 + ' burritos.' occurs because we're trying to concatenate a string ('I have eaten ') with an integer (99) without converting the integer to a string first. In Python, you can only concatenate strings with other strings, not with integers or other data types.\n",
    "\n",
    "To fix this error, you need to ensure that all parts being concatenated are of the same data type (strings). \n",
    "\n",
    "Here's how you can fix it:\n",
    "\n",
    "'I have eaten ' + str(99) + ' burritos.'\n",
    "\n",
    "In this corrected expression, str(99) converts the integer 99 to its string representation, allowing it to be concatenated with the other strings. Now, the expression will result in the string 'I have eaten 99 burritos."
   ]
  },
  {
   "cell_type": "markdown",
   "metadata": {},
   "source": [
    "## Question 11\n",
    "Write a Python program to calculate the sum of two numbers and print the result.\n",
    "gative, or zero."
   ]
  },
  {
   "cell_type": "markdown",
   "metadata": {},
   "source": [
    "# Answer"
   ]
  },
  {
   "cell_type": "code",
   "execution_count": 2,
   "metadata": {},
   "outputs": [
    {
     "name": "stdout",
     "output_type": "stream",
     "text": [
      "sum of two number is : 40\n"
     ]
    }
   ],
   "source": [
    "num1 = int(input(\"enter the first number\"))\n",
    "num2 = int(input(\"enter the second number\"))\n",
    "result = num1+num2\n",
    "print(\"sum of two number is :\", result)\n"
   ]
  },
  {
   "cell_type": "markdown",
   "metadata": {},
   "source": [
    "## Question 12\n",
    "Create a Python program that takes the user's name as input and prints a greeting message.\n",
    "\n"
   ]
  },
  {
   "cell_type": "markdown",
   "metadata": {},
   "source": [
    "# Answer"
   ]
  },
  {
   "cell_type": "code",
   "execution_count": 6,
   "metadata": {},
   "outputs": [
    {
     "name": "stdout",
     "output_type": "stream",
     "text": [
      "Hello alok welcome to the program\n"
     ]
    }
   ],
   "source": [
    "name = input(\"Enter your name\")\n",
    "greet=\"welcome to the program\"\n",
    "print(\"Hello\" ,name +\" \" + greet)"
   ]
  },
  {
   "cell_type": "markdown",
   "metadata": {},
   "source": [
    "## Question 13\n",
    "Write a Python program to calculate the area of a rectangle given its length and width. (Assume length and width are provided as inputs.)\n",
    "\n"
   ]
  },
  {
   "cell_type": "markdown",
   "metadata": {},
   "source": [
    "# Answer"
   ]
  },
  {
   "cell_type": "code",
   "execution_count": 7,
   "metadata": {},
   "outputs": [
    {
     "name": "stdout",
     "output_type": "stream",
     "text": [
      "Area of rectangle is : 200.0\n"
     ]
    }
   ],
   "source": [
    "length=float(input(\"Enter the length\"))\n",
    "width =float(input(\"Enter the width\"))\n",
    "area_rectangle =length*width\n",
    "print(\"Area of rectangle is :\",area_rectangle)"
   ]
  },
  {
   "cell_type": "markdown",
   "metadata": {},
   "source": [
    "## Question 14\n",
    "Create a Python program that asks the user for their age and prints out a message saying whether they are a child, teenager, or adult based on their age.\n",
    "\n"
   ]
  },
  {
   "cell_type": "markdown",
   "metadata": {},
   "source": [
    "# Answer"
   ]
  },
  {
   "cell_type": "code",
   "execution_count": 9,
   "metadata": {},
   "outputs": [
    {
     "name": "stdout",
     "output_type": "stream",
     "text": [
      "you are adult\n"
     ]
    }
   ],
   "source": [
    "age =int(input(\"Enter your age\"))\n",
    "if age<13 :\n",
    "     print(\" you are a child\")\n",
    "elif age<20 :\n",
    "     print(\"you are teenager\")\n",
    "else :\n",
    "     print(\"you are adult\")          \n",
    "     # if age =20 the it print \"you are adult\""
   ]
  },
  {
   "cell_type": "markdown",
   "metadata": {},
   "source": [
    "## Question 15\n",
    "Write a Python program to convert temperature from Celsius to Fahrenheit. (Assume Celsius temperature is provided as input.)\n",
    "\n"
   ]
  },
  {
   "cell_type": "markdown",
   "metadata": {},
   "source": [
    "# Answer"
   ]
  },
  {
   "cell_type": "code",
   "execution_count": 10,
   "metadata": {},
   "outputs": [
    {
     "name": "stdout",
     "output_type": "stream",
     "text": [
      "Temperature in fahrenheit is : 41.0\n"
     ]
    }
   ],
   "source": [
    "celcius = float(input(\"Enter temperature in celcius\"))\n",
    "fahrenheit =   (1.8*celcius) + 32\n",
    "print(\"Temperature in fahrenheit is :\", fahrenheit)   \n",
    "\n",
    "# if celcius =5 then it prints 41 in fahrenheit"
   ]
  },
  {
   "cell_type": "markdown",
   "metadata": {},
   "source": [
    "## Question 16\n",
    "Create a Python program that takes the radius of a circle as input and calculates its area. (Assume the value of pi is 3.14.)\n",
    "\n"
   ]
  },
  {
   "cell_type": "code",
   "execution_count": 11,
   "metadata": {},
   "outputs": [
    {
     "name": "stdout",
     "output_type": "stream",
     "text": [
      "Area of cicle is : 78.5\n"
     ]
    }
   ],
   "source": [
    "rad = int(input(\" Enter radius\"))\n",
    "area = 3.14*rad*rad\n",
    "print(\"Area of cicle is :\", area)\n",
    "\n",
    "# if radius is 5 the area of circle is 78.5"
   ]
  },
  {
   "cell_type": "markdown",
   "metadata": {},
   "source": [
    "## Question 17\n",
    "Write a Python program to find the maximum of two numbers entered by the user.\n",
    "\n"
   ]
  },
  {
   "cell_type": "markdown",
   "metadata": {},
   "source": [
    "# Answer"
   ]
  },
  {
   "cell_type": "code",
   "execution_count": 16,
   "metadata": {},
   "outputs": [
    {
     "name": "stdout",
     "output_type": "stream",
     "text": [
      "30  is max number\n"
     ]
    }
   ],
   "source": [
    "n1 = int(input(\"Enter the first number\"))\n",
    "n2 = int(input(\"Enter second number\"))\n",
    "if n1 > n2 :\n",
    "    print( n1 ,\"is max number\")   \n",
    "else:\n",
    "    print(n2 , \" is max number\")    "
   ]
  },
  {
   "cell_type": "markdown",
   "metadata": {},
   "source": [
    "## Question 18\n",
    "Create a Python program that asks the user to enter two numbers and prints out their product.\n",
    "\n"
   ]
  },
  {
   "cell_type": "markdown",
   "metadata": {},
   "source": [
    "# Answer"
   ]
  },
  {
   "cell_type": "code",
   "execution_count": 18,
   "metadata": {},
   "outputs": [
    {
     "name": "stdout",
     "output_type": "stream",
     "text": [
      "product of two number is :  600\n"
     ]
    }
   ],
   "source": [
    "num1= int(input(\"Enter first number\"))\n",
    "num2= int(input(\" Enter second number\"))\n",
    "product = num1*num2\n",
    "print(\"product of two number is : \", product)\n",
    "# if num 1 is 20 and num2 is 30 then product is 600"
   ]
  },
  {
   "cell_type": "markdown",
   "metadata": {},
   "source": [
    "## Question 19\n",
    "Write a Python program that prompts the user to enter a number and then prints whether the number is positive, negative, or zero."
   ]
  },
  {
   "cell_type": "markdown",
   "metadata": {},
   "source": [
    "# Answer"
   ]
  },
  {
   "cell_type": "code",
   "execution_count": 21,
   "metadata": {},
   "outputs": [
    {
     "name": "stdout",
     "output_type": "stream",
     "text": [
      " Number is negative\n"
     ]
    }
   ],
   "source": [
    "num= int(input(\"Enter first number\"))\n",
    "if num <0 :\n",
    "    print(\" Number is negative\")\n",
    "elif num >0:\n",
    "    print( \" Number is positive\")\n",
    "else :\n",
    "    print(\" Number is zero\")    "
   ]
  }
 ],
 "metadata": {
  "anaconda-cloud": {},
  "kernelspec": {
   "display_name": "Python 3 (ipykernel)",
   "language": "python",
   "name": "python3"
  },
  "language_info": {
   "codemirror_mode": {
    "name": "ipython",
    "version": 3
   },
   "file_extension": ".py",
   "mimetype": "text/x-python",
   "name": "python",
   "nbconvert_exporter": "python",
   "pygments_lexer": "ipython3",
   "version": "3.12.1"
  }
 },
 "nbformat": 4,
 "nbformat_minor": 4
}
